{
  "cells": [
    {
      "cell_type": "code",
      "execution_count": 1,
      "id": "4a5175ee",
      "metadata": {
        "id": "4a5175ee"
      },
      "outputs": [],
      "source": [
        "%matplotlib inline\n",
        "import matplotlib.pyplot as plt\n",
        "\n",
        "import numpy as np\n",
        "import numpy.linalg as la\n",
        "\n",
        "from sympy import Matrix"
      ]
    },
    {
      "cell_type": "code",
      "execution_count": 4,
      "id": "db0a064e",
      "metadata": {
        "id": "db0a064e",
        "outputId": "cf2291fc-e017-4cd0-f6de-6918ecc40ece",
        "colab": {
          "base_uri": "https://localhost:8080/",
          "height": 78
        }
      },
      "outputs": [
        {
          "output_type": "execute_result",
          "data": {
            "text/plain": [
              "Matrix([\n",
              "[1, 3, 8],\n",
              "[1, 2, 6],\n",
              "[0, 1, 2]])"
            ],
            "text/latex": "$\\displaystyle \\left[\\begin{matrix}1 & 3 & 8\\\\1 & 2 & 6\\\\0 & 1 & 2\\end{matrix}\\right]$"
          },
          "metadata": {},
          "execution_count": 4
        }
      ],
      "source": [
        "M = Matrix([[1,3,8],\n",
        "            [1,2,6],\n",
        "            [0,1,2]])\n",
        "M"
      ]
    },
    {
      "cell_type": "markdown",
      "id": "1d0acf81",
      "metadata": {
        "id": "1d0acf81"
      },
      "source": [
        "### Row Reduced Echelon Form"
      ]
    },
    {
      "cell_type": "code",
      "execution_count": 3,
      "id": "dfbb9d45",
      "metadata": {
        "id": "dfbb9d45",
        "outputId": "5f0978dc-02ed-4540-f3f6-2641e2018fc0",
        "colab": {
          "base_uri": "https://localhost:8080/",
          "height": 78
        }
      },
      "outputs": [
        {
          "output_type": "execute_result",
          "data": {
            "text/plain": [
              "Matrix([\n",
              "[1, 0, 2],\n",
              "[0, 1, 2],\n",
              "[0, 0, 0]])"
            ],
            "text/latex": "$\\displaystyle \\left[\\begin{matrix}1 & 0 & 2\\\\0 & 1 & 2\\\\0 & 0 & 0\\end{matrix}\\right]$"
          },
          "metadata": {},
          "execution_count": 3
        }
      ],
      "source": [
        "M.rref()[0]"
      ]
    },
    {
      "cell_type": "code",
      "execution_count": null,
      "id": "665dfd65",
      "metadata": {
        "id": "665dfd65"
      },
      "outputs": [],
      "source": []
    }
  ],
  "metadata": {
    "kernelspec": {
      "display_name": "Python 3 (ipykernel)",
      "language": "python",
      "name": "python3"
    },
    "language_info": {
      "codemirror_mode": {
        "name": "ipython",
        "version": 3
      },
      "file_extension": ".py",
      "mimetype": "text/x-python",
      "name": "python",
      "nbconvert_exporter": "python",
      "pygments_lexer": "ipython3",
      "version": "3.7.10"
    },
    "colab": {
      "provenance": []
    }
  },
  "nbformat": 4,
  "nbformat_minor": 5
}