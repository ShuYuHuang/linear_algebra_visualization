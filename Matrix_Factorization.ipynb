{
 "cells": [
  {
   "cell_type": "code",
   "execution_count": 2,
   "id": "55f66275",
   "metadata": {},
   "outputs": [],
   "source": [
    "%matplotlib inline\n",
    "import matplotlib.pyplot as plt\n",
    "\n",
    "import numpy as np\n",
    "import numpy.linalg as la\n",
    "\n",
    "from sympy import Matrix"
   ]
  },
  {
   "cell_type": "code",
   "execution_count": 29,
   "id": "e310710a",
   "metadata": {},
   "outputs": [],
   "source": [
    "M = Matrix([[1,3,8],\n",
    "            [1,2,6],\n",
    "            [0,1,2]])"
   ]
  },
  {
   "cell_type": "markdown",
   "id": "bb3cc190",
   "metadata": {},
   "source": [
    "### Row Reduced Echelon Form"
   ]
  },
  {
   "cell_type": "code",
   "execution_count": 36,
   "id": "e74b8679",
   "metadata": {},
   "outputs": [
    {
     "data": {
      "text/latex": [
       "$\\displaystyle \\left[\\begin{matrix}1 & 0 & 2\\\\0 & 1 & 2\\\\0 & 0 & 0\\end{matrix}\\right]$"
      ],
      "text/plain": [
       "Matrix([\n",
       "[1, 0, 2],\n",
       "[0, 1, 2],\n",
       "[0, 0, 0]])"
      ]
     },
     "execution_count": 36,
     "metadata": {},
     "output_type": "execute_result"
    }
   ],
   "source": [
    "M.rref()[0]"
   ]
  },
  {
   "cell_type": "markdown",
   "id": "dfae21eb",
   "metadata": {},
   "source": [
    "![](https://i.imgur.com/LC2hFcC.png =100x20)"
   ]
  },
  {
   "cell_type": "code",
   "execution_count": null,
   "id": "1c27e572",
   "metadata": {},
   "outputs": [],
   "source": []
  }
 ],
 "metadata": {
  "kernelspec": {
   "display_name": "Python 3 (ipykernel)",
   "language": "python",
   "name": "python3"
  },
  "language_info": {
   "codemirror_mode": {
    "name": "ipython",
    "version": 3
   },
   "file_extension": ".py",
   "mimetype": "text/x-python",
   "name": "python",
   "nbconvert_exporter": "python",
   "pygments_lexer": "ipython3",
   "version": "3.7.10"
  }
 },
 "nbformat": 4,
 "nbformat_minor": 5
}
