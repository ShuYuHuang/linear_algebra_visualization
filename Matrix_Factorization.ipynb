{
<<<<<<< HEAD
 "cells": [
  {
   "cell_type": "code",
   "execution_count": 2,
   "id": "55f66275",
   "metadata": {},
   "outputs": [],
   "source": [
    "%matplotlib inline\n",
    "import matplotlib.pyplot as plt\n",
    "\n",
    "import numpy as np\n",
    "import numpy.linalg as la\n",
    "\n",
    "from sympy import Matrix"
   ]
  },
  {
   "cell_type": "code",
   "execution_count": 29,
   "id": "e310710a",
   "metadata": {},
   "outputs": [],
   "source": [
    "M = Matrix([[1,3,8],\n",
    "            [1,2,6],\n",
    "            [0,1,2]])"
   ]
  },
  {
   "cell_type": "markdown",
   "id": "bb3cc190",
   "metadata": {},
   "source": [
    "### Row Reduced Echelon Form"
   ]
  },
  {
   "cell_type": "code",
   "execution_count": 36,
   "id": "e74b8679",
   "metadata": {},
   "outputs": [
=======
  "cells": [
    {
      "cell_type": "markdown",
      "source": [
        "# Matric Factorization"
      ],
      "metadata": {
        "id": "ToW-5SZ2jxlD"
      },
      "id": "ToW-5SZ2jxlD"
    },
>>>>>>> 075e3ccd71fe3cae665108687387fcd4522582f9
    {
      "cell_type": "markdown",
      "source": [
        "* github: https://github.com/ShuYuHuang/linear_algebra_visualization\n",
        "* 圖集: https://hackmd.io/ewLmRMwfQcairiNC4_rFdA"
      ],
      "metadata": {
        "id": "GhTWL1uBjb7l"
      },
      "id": "GhTWL1uBjb7l"
    },
    {
      "cell_type": "code",
      "execution_count": 1,
      "id": "4a5175ee",
      "metadata": {
        "id": "4a5175ee"
      },
      "outputs": [],
      "source": [
        "%matplotlib inline\n",
        "import matplotlib.pyplot as plt\n",
        "\n",
        "import numpy as np\n",
        "import numpy.linalg as la\n",
        "\n",
        "from sympy import Matrix"
      ]
    },
    {
      "cell_type": "markdown",
      "id": "1d0acf81",
      "metadata": {
        "id": "1d0acf81"
      },
      "source": [
        "### Row Reduced Echelon Form"
      ]
    },
    {
      "cell_type": "code",
      "execution_count": 4,
      "id": "db0a064e",
      "metadata": {
        "colab": {
          "base_uri": "https://localhost:8080/",
          "height": 78
        },
        "id": "db0a064e",
        "outputId": "cf2291fc-e017-4cd0-f6de-6918ecc40ece"
      },
      "outputs": [
        {
          "output_type": "execute_result",
          "data": {
            "text/plain": [
              "Matrix([\n",
              "[1, 3, 8],\n",
              "[1, 2, 6],\n",
              "[0, 1, 2]])"
            ],
            "text/latex": "$\\displaystyle \\left[\\begin{matrix}1 & 3 & 8\\\\1 & 2 & 6\\\\0 & 1 & 2\\end{matrix}\\right]$"
          },
          "metadata": {},
          "execution_count": 4
        }
      ],
      "source": [
        "M = Matrix([[1,3,8],\n",
        "            [1,2,6],\n",
        "            [0,1,2]])\n",
        "M"
      ]
    },
    {
      "cell_type": "code",
      "execution_count": 3,
      "id": "dfbb9d45",
      "metadata": {
        "colab": {
          "base_uri": "https://localhost:8080/",
          "height": 78
        },
        "id": "dfbb9d45",
        "outputId": "5f0978dc-02ed-4540-f3f6-2641e2018fc0"
      },
      "outputs": [
        {
          "output_type": "execute_result",
          "data": {
            "text/plain": [
              "Matrix([\n",
              "[1, 0, 2],\n",
              "[0, 1, 2],\n",
              "[0, 0, 0]])"
            ],
            "text/latex": "$\\displaystyle \\left[\\begin{matrix}1 & 0 & 2\\\\0 & 1 & 2\\\\0 & 0 & 0\\end{matrix}\\right]$"
          },
          "metadata": {},
          "execution_count": 3
        }
      ],
      "source": [
        "M.rref()[0]"
      ]
    },
    {
      "cell_type": "markdown",
      "source": [
        "## Important Factorizations"
      ],
      "metadata": {
        "id": "9QdMlZnZj2OG"
      },
      "id": "9QdMlZnZj2OG"
    },
    {
      "cell_type": "markdown",
      "source": [
        "<img src=\"https://i.imgur.com/jkjjMPU.png\" width=500/>\n",
        "\n",
        "- elimination\n",
        "- \"Gram-Schmidt\" orthogonalizing\n",
        "- eigenvalue decomposition\n",
        "- diagonalization\n",
        "- Singular Value Decomposition"
      ],
      "metadata": {
        "id": "j7BC6JlzjJtT"
      },
      "id": "j7BC6JlzjJtT"
    },
    {
      "cell_type": "markdown",
      "source": [
        "### Solving Ax = b by Elimination "
      ],
      "metadata": {
        "id": "ookWqFqRlVyA"
      },
      "id": "ookWqFqRlVyA"
    },
    {
      "cell_type": "markdown",
      "source": [
        "<img src=\"https://i.imgur.com/LC2hFcC.png\" width=300/>"
      ],
      "metadata": {
        "id": "a9ZSVT2nnTS7"
      },
      "id": "a9ZSVT2nnTS7"
    },
    {
      "cell_type": "code",
      "source": [
        "A= Matrix([[1,2],\n",
        "           [2,3]])\n",
        "b= Matrix([[1],\n",
        "           [9]])\n",
        "display(A,b)"
      ],
      "metadata": {
        "colab": {
          "base_uri": "https://localhost:8080/",
          "height": 98
        },
        "id": "H6DD8G6NjKT1",
        "outputId": "ef2ac640-a34a-4c12-ed0c-0dceda4619af"
      },
      "id": "H6DD8G6NjKT1",
      "execution_count": 13,
      "outputs": [
        {
          "output_type": "display_data",
          "data": {
            "text/plain": [
              "Matrix([\n",
              "[1, 2],\n",
              "[2, 3]])"
            ],
            "text/latex": "$\\displaystyle \\left[\\begin{matrix}1 & 2\\\\2 & 3\\end{matrix}\\right]$"
          },
          "metadata": {}
        },
        {
          "output_type": "display_data",
          "data": {
            "text/plain": [
              "Matrix([\n",
              "[1],\n",
              "[9]])"
            ],
            "text/latex": "$\\displaystyle \\left[\\begin{matrix}1\\\\9\\end{matrix}\\right]$"
          },
          "metadata": {}
        }
      ]
    },
    {
      "cell_type": "code",
      "source": [],
      "metadata": {
        "id": "2XFwdMZ5mBAt"
      },
      "id": "2XFwdMZ5mBAt",
      "execution_count": null,
      "outputs": []
    }
  ],
  "metadata": {
    "kernelspec": {
      "display_name": "Python 3 (ipykernel)",
      "language": "python",
      "name": "python3"
    },
    "language_info": {
      "codemirror_mode": {
        "name": "ipython",
        "version": 3
      },
      "file_extension": ".py",
      "mimetype": "text/x-python",
      "name": "python",
      "nbconvert_exporter": "python",
      "pygments_lexer": "ipython3",
      "version": "3.7.10"
    },
    "colab": {
      "provenance": []
    }
<<<<<<< HEAD
   ],
   "source": [
    "M.rref()[0]"
   ]
  },
  {
   "cell_type": "markdown",
   "id": "dfae21eb",
   "metadata": {},
   "source": [
    "![](https://i.imgur.com/LC2hFcC.png =100x20)"
   ]
  },
  {
   "cell_type": "code",
   "execution_count": null,
   "id": "1c27e572",
   "metadata": {},
   "outputs": [],
   "source": []
  }
 ],
 "metadata": {
  "kernelspec": {
   "display_name": "Python 3 (ipykernel)",
   "language": "python",
   "name": "python3"
=======
>>>>>>> 075e3ccd71fe3cae665108687387fcd4522582f9
  },
  "nbformat": 4,
  "nbformat_minor": 5
}